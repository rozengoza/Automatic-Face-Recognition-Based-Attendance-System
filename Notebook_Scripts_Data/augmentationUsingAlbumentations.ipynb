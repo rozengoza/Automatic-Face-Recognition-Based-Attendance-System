{
 "cells": [
  {
   "cell_type": "code",
   "execution_count": null,
   "id": "c7cff3ae",
   "metadata": {},
   "outputs": [],
   "source": [
    "!pip install albumentations\n",
    "\n"
   ]
  },
  {
   "cell_type": "code",
   "execution_count": null,
   "id": "8667c4a5",
   "metadata": {},
   "outputs": [],
   "source": [
    "!pip install typing-extensions"
   ]
  },
  {
   "cell_type": "code",
   "execution_count": null,
   "id": "b25cd0c6",
   "metadata": {},
   "outputs": [],
   "source": [
    "pip install -U typing-extensions"
   ]
  },
  {
   "cell_type": "code",
   "execution_count": 1,
   "id": "411ae189",
   "metadata": {},
   "outputs": [],
   "source": [
    "from retinaface import RetinaFace\n",
    "import cv2\n",
    "import time\n",
    "from os import listdir\n",
    "from os.path import isfile, join\n",
    "import os\n",
    "import albumentations as A\n"
   ]
  },
  {
   "cell_type": "code",
   "execution_count": 2,
   "id": "2b83f262",
   "metadata": {},
   "outputs": [
    {
     "name": "stdout",
     "output_type": "stream",
     "text": [
      "C:/Users/rozen/Desktop/augmentationMarch14/data\n"
     ]
    }
   ],
   "source": [
    "path = \"C:/Users/rozen/Desktop/augmentationMarch14/data\"\n",
    "print(path)"
   ]
  },
  {
   "cell_type": "code",
   "execution_count": 3,
   "id": "8b4ef14b",
   "metadata": {},
   "outputs": [],
   "source": [
    "images = []\n",
    "for filename in os.listdir(path):\n",
    "    for img_name in os.listdir(os.path.join(path, filename)):\n",
    "        img = cv2.imread(os.path.join(path, filename, img_name))\n",
    "        if img is not None:\n",
    "            images.append((img_name, img))"
   ]
  },
  {
   "cell_type": "code",
   "execution_count": 21,
   "id": "32770d96",
   "metadata": {},
   "outputs": [],
   "source": [
    "transform = A.Compose([                                        \n",
    "                    A.HorizontalFlip(p=0.2),                            \n",
    "                    A.Rotate(limit=32, border_mode=cv2.BORDER_CONSTANT, p=0.1),             \n",
    "                    \n",
    "                    A.RandomBrightnessContrast(brightness_limit=(-0.3,0.2), contrast_limit=(-0.2,0.2), p=0.2),\n",
    "                    A.RandomBrightness(limit=(-0.3,0.2), p=0.2),                           \n",
    "                    A.RandomContrast(limit=(-0.2,0.2), p=0.1),                   \n",
    "                    \n",
    "                    A.Sharpen(alpha=(0.1, 0.2), lightness=(0.1, 0.2), always_apply=False, p=0.1),\n",
    "                \n",
    "                    A.CLAHE(clip_limit=2.0, always_apply=False, p=0.1),                            \n",
    "                    A.HueSaturationValue(hue_shift_limit=1,sat_shift_limit=2,val_shift_limit=3,p=0.1),\n",
    "                    A.OneOf([                            A.RGBShift(b_shift_limit=20,p=0.3),                             A.RGBShift(r_shift_limit=20,p=0.3),                            A.RGBShift(g_shift_limit=20,p=0.3)                    ],p=0.2),\n",
    "                   \n",
    "                    \n",
    "                    A.ToGray(p=0.02),\n",
    "                \n",
    "                    A.Normalize(mean=(0.485,), std=(0.229,), p=0.1),\n",
    "                    A.CoarseDropout(max_holes=8, max_height=8, max_width=8, min_holes=None, min_height=None, min_width=None, fill_value=0, mask_fill_value=None, always_apply=False, p=0.1),\n",
    "                    A.OneOf([                            A.RGBShift (r_shift_limit=60, g_shift_limit=20, b_shift_limit=20, p=0.3),                            A.RGBShift (r_shift_limit=20, g_shift_limit=60, b_shift_limit=20, p=0.3),                            A.RGBShift (r_shift_limit=0, g_shift_limit=0, b_shift_limit=60, p=0.3)                    ],p=0.05)   \n",
    "                    \n",
    "                  \n",
    "                  ])"
   ]
  },
  {
   "cell_type": "code",
   "execution_count": null,
   "id": "2e1f0983",
   "metadata": {},
   "outputs": [],
   "source": []
  },
  {
   "cell_type": "code",
   "execution_count": 22,
   "id": "72a1b7aa",
   "metadata": {},
   "outputs": [],
   "source": [
    "for i in range(3):\n",
    "    \n",
    "      for img_name, img in images:\n",
    "        \n",
    "          transformed = transform(image=img)\n",
    "          transformed_image = transformed[\"image\"]\n",
    "          cv2.imwrite('new_attendance_pictures/{}_{}.jpg'.format(img_name,i), transformed_image )"
   ]
  },
  {
   "cell_type": "code",
   "execution_count": null,
   "id": "c05f272e",
   "metadata": {},
   "outputs": [],
   "source": []
  }
 ],
 "metadata": {
  "kernelspec": {
   "display_name": "Python [conda env:trainenv1]",
   "language": "python",
   "name": "conda-env-trainenv1-py"
  },
  "language_info": {
   "codemirror_mode": {
    "name": "ipython",
    "version": 3
   },
   "file_extension": ".py",
   "mimetype": "text/x-python",
   "name": "python",
   "nbconvert_exporter": "python",
   "pygments_lexer": "ipython3",
   "version": "3.7.11"
  }
 },
 "nbformat": 4,
 "nbformat_minor": 5
}
